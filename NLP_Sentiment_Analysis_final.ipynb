{
 "cells": [
  {
   "cell_type": "markdown",
   "id": "d69810a8",
   "metadata": {},
   "source": [
    "### Building a NLP model to identify the sentiment of the Review. "
   ]
  },
  {
   "cell_type": "markdown",
   "id": "4334fdc2",
   "metadata": {},
   "source": [
    "#### About Dataset\n",
    "###### Context\n",
    "Movies' data is stored on several popular websites, but when it comes to critic reviews there is no better place than Rotten Tomatoes. This website allows to compare the ratings given by regular users (audience score) and the ratings given/reviews provided by critics (tomatometer) who are certified members of various writing guilds or film critic-associations.\n",
    "\n",
    "###### Content\n",
    "#### In the movies dataset each record represents a movie available on Rotten Tomatoes, with the URL used for the scraping, movie tile, description, genres, duration, director, actors, users' ratings, and critics' ratings. In the critics dataset each record represents a critic review published on Rotten Tomatoes, with the URL used for the scraping, critic name, review publication, date, score, and content.\n",
    "\n",
    "###### Acknowledgements\n",
    "Data has been scraped from the publicly available website https://www.rottentomatoes.com as of 2020-10-31.\n",
    "Since the data takes a few days to be scraped from the website, there is no full consistency between some fields of the movies and critics datasets such as \"tomatometercount\", \"tomatometertopcriticscount\", \"tomatometerfreshcriticscount\", and \"tomatometerrottencriticscount\" of the movies dataset compared to all records included in the critics dataset, which has been scraped first.\n"
   ]
  },
  {
   "cell_type": "markdown",
   "id": "31e9ccc4",
   "metadata": {},
   "source": [
    "#### Approach:\n",
    "1. Data Cleaning and Exploration\n",
    "2. Data Preprocessing\n",
    "3. Model development\n",
    "4. Comparing the model performances. "
   ]
  },
  {
   "cell_type": "code",
   "execution_count": 2,
   "id": "28cfe008",
   "metadata": {},
   "outputs": [],
   "source": [
    "#Importing necessary libraries:\n",
    "import pandas as pd\n",
    "import numpy as np\n",
    "import matplotlib.pyplot as plt\n",
    "import seaborn as sb\n",
    "%matplotlib inline"
   ]
  },
  {
   "cell_type": "code",
   "execution_count": 3,
   "id": "a11c0087",
   "metadata": {},
   "outputs": [],
   "source": [
    "#Reading the files\n",
    "df_mc = pd.read_csv(\"rotten_tomatoes_critic_reviews.csv\")"
   ]
  },
  {
   "cell_type": "code",
   "execution_count": 4,
   "id": "6b029d95",
   "metadata": {},
   "outputs": [
    {
     "data": {
      "text/html": [
       "<div>\n",
       "<style scoped>\n",
       "    .dataframe tbody tr th:only-of-type {\n",
       "        vertical-align: middle;\n",
       "    }\n",
       "\n",
       "    .dataframe tbody tr th {\n",
       "        vertical-align: top;\n",
       "    }\n",
       "\n",
       "    .dataframe thead th {\n",
       "        text-align: right;\n",
       "    }\n",
       "</style>\n",
       "<table border=\"1\" class=\"dataframe\">\n",
       "  <thead>\n",
       "    <tr style=\"text-align: right;\">\n",
       "      <th></th>\n",
       "      <th>rotten_tomatoes_link</th>\n",
       "      <th>critic_name</th>\n",
       "      <th>top_critic</th>\n",
       "      <th>publisher_name</th>\n",
       "      <th>review_type</th>\n",
       "      <th>review_score</th>\n",
       "      <th>review_date</th>\n",
       "      <th>review_content</th>\n",
       "    </tr>\n",
       "  </thead>\n",
       "  <tbody>\n",
       "    <tr>\n",
       "      <th>0</th>\n",
       "      <td>m/0814255</td>\n",
       "      <td>Andrew L. Urban</td>\n",
       "      <td>False</td>\n",
       "      <td>Urban Cinefile</td>\n",
       "      <td>Fresh</td>\n",
       "      <td>NaN</td>\n",
       "      <td>2010-02-06</td>\n",
       "      <td>A fantasy adventure that fuses Greek mythology...</td>\n",
       "    </tr>\n",
       "    <tr>\n",
       "      <th>1</th>\n",
       "      <td>m/0814255</td>\n",
       "      <td>Louise Keller</td>\n",
       "      <td>False</td>\n",
       "      <td>Urban Cinefile</td>\n",
       "      <td>Fresh</td>\n",
       "      <td>NaN</td>\n",
       "      <td>2010-02-06</td>\n",
       "      <td>Uma Thurman as Medusa, the gorgon with a coiff...</td>\n",
       "    </tr>\n",
       "    <tr>\n",
       "      <th>2</th>\n",
       "      <td>m/0814255</td>\n",
       "      <td>NaN</td>\n",
       "      <td>False</td>\n",
       "      <td>FILMINK (Australia)</td>\n",
       "      <td>Fresh</td>\n",
       "      <td>NaN</td>\n",
       "      <td>2010-02-09</td>\n",
       "      <td>With a top-notch cast and dazzling special eff...</td>\n",
       "    </tr>\n",
       "    <tr>\n",
       "      <th>3</th>\n",
       "      <td>m/0814255</td>\n",
       "      <td>Ben McEachen</td>\n",
       "      <td>False</td>\n",
       "      <td>Sunday Mail (Australia)</td>\n",
       "      <td>Fresh</td>\n",
       "      <td>3.5/5</td>\n",
       "      <td>2010-02-09</td>\n",
       "      <td>Whether audiences will get behind The Lightnin...</td>\n",
       "    </tr>\n",
       "    <tr>\n",
       "      <th>4</th>\n",
       "      <td>m/0814255</td>\n",
       "      <td>Ethan Alter</td>\n",
       "      <td>True</td>\n",
       "      <td>Hollywood Reporter</td>\n",
       "      <td>Rotten</td>\n",
       "      <td>NaN</td>\n",
       "      <td>2010-02-10</td>\n",
       "      <td>What's really lacking in The Lightning Thief i...</td>\n",
       "    </tr>\n",
       "  </tbody>\n",
       "</table>\n",
       "</div>"
      ],
      "text/plain": [
       "  rotten_tomatoes_link      critic_name  top_critic           publisher_name  \\\n",
       "0            m/0814255  Andrew L. Urban       False           Urban Cinefile   \n",
       "1            m/0814255    Louise Keller       False           Urban Cinefile   \n",
       "2            m/0814255              NaN       False      FILMINK (Australia)   \n",
       "3            m/0814255     Ben McEachen       False  Sunday Mail (Australia)   \n",
       "4            m/0814255      Ethan Alter        True       Hollywood Reporter   \n",
       "\n",
       "  review_type review_score review_date  \\\n",
       "0       Fresh          NaN  2010-02-06   \n",
       "1       Fresh          NaN  2010-02-06   \n",
       "2       Fresh          NaN  2010-02-09   \n",
       "3       Fresh        3.5/5  2010-02-09   \n",
       "4      Rotten          NaN  2010-02-10   \n",
       "\n",
       "                                      review_content  \n",
       "0  A fantasy adventure that fuses Greek mythology...  \n",
       "1  Uma Thurman as Medusa, the gorgon with a coiff...  \n",
       "2  With a top-notch cast and dazzling special eff...  \n",
       "3  Whether audiences will get behind The Lightnin...  \n",
       "4  What's really lacking in The Lightning Thief i...  "
      ]
     },
     "execution_count": 4,
     "metadata": {},
     "output_type": "execute_result"
    }
   ],
   "source": [
    "df_mc.head()"
   ]
  },
  {
   "cell_type": "code",
   "execution_count": 5,
   "id": "9d299c8b",
   "metadata": {},
   "outputs": [
    {
     "name": "stdout",
     "output_type": "stream",
     "text": [
      "<class 'pandas.core.frame.DataFrame'>\n",
      "RangeIndex: 1130017 entries, 0 to 1130016\n",
      "Data columns (total 8 columns):\n",
      " #   Column                Non-Null Count    Dtype \n",
      "---  ------                --------------    ----- \n",
      " 0   rotten_tomatoes_link  1130017 non-null  object\n",
      " 1   critic_name           1111488 non-null  object\n",
      " 2   top_critic            1130017 non-null  bool  \n",
      " 3   publisher_name        1130017 non-null  object\n",
      " 4   review_type           1130017 non-null  object\n",
      " 5   review_score          824081 non-null   object\n",
      " 6   review_date           1130017 non-null  object\n",
      " 7   review_content        1064211 non-null  object\n",
      "dtypes: bool(1), object(7)\n",
      "memory usage: 61.4+ MB\n"
     ]
    }
   ],
   "source": [
    "df_mc.info()"
   ]
  },
  {
   "cell_type": "markdown",
   "id": "ab55aea5",
   "metadata": {},
   "source": [
    "#### Data Preprocessing and Cleaning:"
   ]
  },
  {
   "cell_type": "code",
   "execution_count": 6,
   "id": "54ea7e98",
   "metadata": {},
   "outputs": [
    {
     "name": "stdout",
     "output_type": "stream",
     "text": [
      "<class 'pandas.core.frame.DataFrame'>\n",
      "RangeIndex: 1130017 entries, 0 to 1130016\n",
      "Data columns (total 8 columns):\n",
      " #   Column                Non-Null Count    Dtype \n",
      "---  ------                --------------    ----- \n",
      " 0   rotten_tomatoes_link  1130017 non-null  object\n",
      " 1   critic_name           1111488 non-null  object\n",
      " 2   top_critic            1130017 non-null  bool  \n",
      " 3   publisher_name        1130017 non-null  object\n",
      " 4   review_type           1130017 non-null  object\n",
      " 5   review_score          824081 non-null   object\n",
      " 6   review_date           1130017 non-null  object\n",
      " 7   review_content        1064211 non-null  object\n",
      "dtypes: bool(1), object(7)\n",
      "memory usage: 61.4+ MB\n"
     ]
    }
   ],
   "source": [
    "df_mc.info()"
   ]
  },
  {
   "cell_type": "code",
   "execution_count": 7,
   "id": "e61473bd",
   "metadata": {},
   "outputs": [
    {
     "data": {
      "text/plain": [
       "rotten_tomatoes_link         0\n",
       "critic_name              18529\n",
       "top_critic                   0\n",
       "publisher_name               0\n",
       "review_type                  0\n",
       "review_score            305936\n",
       "review_date                  0\n",
       "review_content           65806\n",
       "dtype: int64"
      ]
     },
     "execution_count": 7,
     "metadata": {},
     "output_type": "execute_result"
    }
   ],
   "source": [
    "df_mc.isnull().sum()"
   ]
  },
  {
   "cell_type": "code",
   "execution_count": 8,
   "id": "67c99476",
   "metadata": {},
   "outputs": [],
   "source": [
    "#For sentiment Analysis We need only two variables review_content and the review type to build the model."
   ]
  },
  {
   "cell_type": "code",
   "execution_count": 9,
   "id": "9f8f6b62",
   "metadata": {},
   "outputs": [],
   "source": [
    "req_cols = ['review_type', 'review_content']\n",
    "df_mc = df_mc[req_cols]"
   ]
  },
  {
   "cell_type": "code",
   "execution_count": 10,
   "id": "535cbbc9",
   "metadata": {},
   "outputs": [],
   "source": [
    "##### Data Cleaning and Preprocessing. "
   ]
  },
  {
   "cell_type": "code",
   "execution_count": 11,
   "id": "21620636",
   "metadata": {},
   "outputs": [
    {
     "data": {
      "text/plain": [
       "review_type           0\n",
       "review_content    65806\n",
       "dtype: int64"
      ]
     },
     "execution_count": 11,
     "metadata": {},
     "output_type": "execute_result"
    }
   ],
   "source": [
    "df_mc.isnull().sum()"
   ]
  },
  {
   "cell_type": "code",
   "execution_count": 12,
   "id": "7a0e9147",
   "metadata": {},
   "outputs": [
    {
     "data": {
      "text/plain": [
       "(1130017, 2)"
      ]
     },
     "execution_count": 12,
     "metadata": {},
     "output_type": "execute_result"
    }
   ],
   "source": [
    "df_mc.shape"
   ]
  },
  {
   "cell_type": "code",
   "execution_count": 13,
   "id": "5346f2c4",
   "metadata": {},
   "outputs": [],
   "source": [
    "df_mc = df_mc.dropna()"
   ]
  },
  {
   "cell_type": "code",
   "execution_count": 14,
   "id": "be9bacc1",
   "metadata": {},
   "outputs": [
    {
     "data": {
      "text/plain": [
       "(1064211, 2)"
      ]
     },
     "execution_count": 14,
     "metadata": {},
     "output_type": "execute_result"
    }
   ],
   "source": [
    "df_mc.shape"
   ]
  },
  {
   "cell_type": "code",
   "execution_count": 15,
   "id": "7016e1ae",
   "metadata": {},
   "outputs": [],
   "source": [
    "#### Removing the special characters from the Review content. "
   ]
  },
  {
   "cell_type": "code",
   "execution_count": 16,
   "id": "e6c5aa29",
   "metadata": {},
   "outputs": [],
   "source": [
    "import re\n",
    "df_mc.review_content = [re.sub('[^a-zA-Z0-9]', ' ', df_mc.review_content.values[i]) for i in range(df_mc.shape[0])]"
   ]
  },
  {
   "cell_type": "code",
   "execution_count": 17,
   "id": "728e225d",
   "metadata": {},
   "outputs": [],
   "source": [
    "#importing libraries for NLP model building"
   ]
  },
  {
   "cell_type": "code",
   "execution_count": 18,
   "id": "e3d5e891",
   "metadata": {},
   "outputs": [],
   "source": [
    "from nltk.corpus import stopwords\n",
    "from sklearn.feature_extraction.text import CountVectorizer, TfidfVectorizer, TfidfTransformer\n",
    "from sklearn.metrics import accuracy_score"
   ]
  },
  {
   "cell_type": "code",
   "execution_count": 19,
   "id": "0f0775c3",
   "metadata": {},
   "outputs": [],
   "source": [
    "df_mc['review_length'] = [len(df_mc.review_content.values[i]) for i in range(df_mc.shape[0])]"
   ]
  },
  {
   "cell_type": "code",
   "execution_count": 20,
   "id": "38af97f8",
   "metadata": {},
   "outputs": [
    {
     "data": {
      "text/plain": [
       "array([<AxesSubplot:title={'center':'Fresh'}>,\n",
       "       <AxesSubplot:title={'center':'Rotten'}>], dtype=object)"
      ]
     },
     "execution_count": 20,
     "metadata": {},
     "output_type": "execute_result"
    },
    {
     "data": {
      "image/png": "[encoded data removed]",
      "text/plain": [
       "<Figure size 864x288 with 2 Axes>"
      ]
     },
     "metadata": {
      "needs_background": "light"
     },
     "output_type": "display_data"
    }
   ],
   "source": [
    "df_mc.hist(column='review_length', by='review_type', bins=20,figsize=(12,4),color='Blue')"
   ]
  },
  {
   "cell_type": "code",
   "execution_count": 21,
   "id": "4e53415c",
   "metadata": {},
   "outputs": [],
   "source": [
    "#The distribution of the length of the review comments is normally distributed for both the cases. "
   ]
  },
  {
   "cell_type": "code",
   "execution_count": 22,
   "id": "abffdcab",
   "metadata": {},
   "outputs": [
    {
     "data": {
      "text/plain": [
       "(1064211, 3)"
      ]
     },
     "execution_count": 22,
     "metadata": {},
     "output_type": "execute_result"
    }
   ],
   "source": [
    "df_mc.shape"
   ]
  },
  {
   "cell_type": "code",
   "execution_count": 23,
   "id": "b2d51e1a",
   "metadata": {},
   "outputs": [],
   "source": [
    "#Removing duplicate reviews from the dataframe\n",
    "df_mc.drop_duplicates(inplace=True)"
   ]
  },
  {
   "cell_type": "code",
   "execution_count": 24,
   "id": "17bb7ee4",
   "metadata": {},
   "outputs": [
    {
     "data": {
      "text/plain": [
       "(949079, 3)"
      ]
     },
     "execution_count": 24,
     "metadata": {},
     "output_type": "execute_result"
    }
   ],
   "source": [
    "df_mc.shape"
   ]
  },
  {
   "cell_type": "code",
   "execution_count": 25,
   "id": "3e130df7",
   "metadata": {},
   "outputs": [],
   "source": [
    "### Model Building "
   ]
  },
  {
   "cell_type": "code",
   "execution_count": 26,
   "id": "ab766dd2",
   "metadata": {},
   "outputs": [],
   "source": [
    "eng_stopwords = set(stopwords.words('english'))"
   ]
  },
  {
   "cell_type": "code",
   "execution_count": 27,
   "id": "1b0c35c8",
   "metadata": {},
   "outputs": [],
   "source": [
    "#creating a function to remove the stopwords from the review\n",
    "def cleaning_review(review):\n",
    "    review = review.lower()\n",
    "    review = ' '.join(word for word in review.split() if word not in eng_stopwords)\n",
    "    return review"
   ]
  },
  {
   "cell_type": "code",
   "execution_count": 28,
   "id": "f5b590d8",
   "metadata": {},
   "outputs": [
    {
     "data": {
      "text/plain": [
       "'A fantasy adventure that fuses Greek mythology to contemporary American places and values  Anyone around 15  give or take a couple of years  will thrill to the visual spectacle'"
      ]
     },
     "execution_count": 28,
     "metadata": {},
     "output_type": "execute_result"
    }
   ],
   "source": [
    "df_mc.review_content[0]"
   ]
  },
  {
   "cell_type": "code",
   "execution_count": 29,
   "id": "bf7dfa71",
   "metadata": {},
   "outputs": [],
   "source": [
    "df_mc.review_content = df_mc.review_content.apply(cleaning_review)"
   ]
  },
  {
   "cell_type": "code",
   "execution_count": 30,
   "id": "66acbf8d",
   "metadata": {},
   "outputs": [
    {
     "data": {
      "text/plain": [
       "'fantasy adventure fuses greek mythology contemporary american places values anyone around 15 give take couple years thrill visual spectacle'"
      ]
     },
     "execution_count": 30,
     "metadata": {},
     "output_type": "execute_result"
    }
   ],
   "source": [
    "df_mc.review_content[0]"
   ]
  },
  {
   "cell_type": "code",
   "execution_count": 31,
   "id": "974ce48a",
   "metadata": {},
   "outputs": [],
   "source": [
    "from sklearn.model_selection import train_test_split\n",
    "X = df_mc.review_content\n",
    "y = df_mc.review_type\n",
    "\n",
    "X_train, X_test, y_train, y_test = train_test_split(X,y, test_size=0.2, random_state=34)"
   ]
  },
  {
   "cell_type": "code",
   "execution_count": 32,
   "id": "c8855226",
   "metadata": {},
   "outputs": [
    {
     "data": {
      "text/plain": [
       "((759263,), (189816,))"
      ]
     },
     "execution_count": 32,
     "metadata": {},
     "output_type": "execute_result"
    }
   ],
   "source": [
    "X_train.shape, X_test.shape"
   ]
  },
  {
   "cell_type": "code",
   "execution_count": 33,
   "id": "fe170b8e",
   "metadata": {},
   "outputs": [
    {
     "data": {
      "text/plain": [
       "Pipeline(steps=[('countvectorizer', CountVectorizer()),\n",
       "                ('tfidftransformer', TfidfTransformer()),\n",
       "                ('logisticregression', LogisticRegression(max_iter=1000))])"
      ]
     },
     "execution_count": 33,
     "metadata": {},
     "output_type": "execute_result"
    }
   ],
   "source": [
    "#Logistic Regression\n",
    "from sklearn.linear_model import LogisticRegression\n",
    "from sklearn.pipeline import make_pipeline\n",
    "from sklearn.metrics import classification_report, confusion_matrix\n",
    "\n",
    "model_lr = make_pipeline(CountVectorizer(), \n",
    "                         TfidfTransformer(), \n",
    "                         LogisticRegression(max_iter=1000))\n",
    "model_lr"
   ]
  },
  {
   "cell_type": "code",
   "execution_count": 34,
   "id": "048df300",
   "metadata": {},
   "outputs": [],
   "source": [
    "model_lr.fit(X_train, y_train)\n",
    "pred_lr = model_lr.predict(X_test)"
   ]
  },
  {
   "cell_type": "code",
   "execution_count": 35,
   "id": "6790eabc",
   "metadata": {},
   "outputs": [
    {
     "name": "stdout",
     "output_type": "stream",
     "text": [
      "Accuracy score  - Logistic Regression : 0.8123867324145488\n"
     ]
    }
   ],
   "source": [
    "print('Accuracy score  - Logistic Regression :', accuracy_score(pred_lr, y_test))"
   ]
  },
  {
   "cell_type": "code",
   "execution_count": 36,
   "id": "ec965d3e",
   "metadata": {},
   "outputs": [
    {
     "data": {
      "text/plain": [
       "(array(['Fresh', 'Fresh', 'Rotten', 'Rotten', 'Rotten', 'Rotten', 'Fresh',\n",
       "        'Fresh', 'Rotten', 'Rotten'], dtype=object),\n",
       " array(['Fresh', 'Fresh', 'Fresh', 'Rotten', 'Rotten', 'Rotten', 'Fresh',\n",
       "        'Fresh', 'Rotten', 'Fresh'], dtype=object))"
      ]
     },
     "execution_count": 36,
     "metadata": {},
     "output_type": "execute_result"
    }
   ],
   "source": [
    "y_test.values[:10], pred_lr[:10]"
   ]
  },
  {
   "cell_type": "code",
   "execution_count": 37,
   "id": "adf49f2e",
   "metadata": {},
   "outputs": [
    {
     "name": "stdout",
     "output_type": "stream",
     "text": [
      "LR classification_report:\n",
      "              precision    recall  f1-score   support\n",
      "\n",
      "       Fresh       0.83      0.89      0.86    121429\n",
      "      Rotten       0.78      0.67      0.72     68387\n",
      "\n",
      "    accuracy                           0.81    189816\n",
      "   macro avg       0.80      0.78      0.79    189816\n",
      "weighted avg       0.81      0.81      0.81    189816\n",
      "\n"
     ]
    }
   ],
   "source": [
    "print('LR classification_report:')\n",
    "print(classification_report(y_test,pred_lr))"
   ]
  },
  {
   "cell_type": "code",
   "execution_count": 38,
   "id": "836de8c8",
   "metadata": {
    "scrolled": true
   },
   "outputs": [
    {
     "data": {
      "text/plain": [
       "Text(0.5, 1.0, 'Confusion Matrix - Logistic Regression')"
      ]
     },
     "execution_count": 38,
     "metadata": {},
     "output_type": "execute_result"
    },
    {
     "data": {
      "image/png": "[encoded data removed]",
      "text/plain": [
       "<Figure size 576x576 with 2 Axes>"
      ]
     },
     "metadata": {
      "needs_background": "light"
     },
     "output_type": "display_data"
    }
   ],
   "source": [
    "cm_lr = confusion_matrix(y_test, pred_lr)\n",
    "plt.figure(figsize=(8,8))\n",
    "sb.heatmap(cm_lr, annot=True)\n",
    "plt.xlabel(\"Predicted\")\n",
    "plt.ylabel(\"Actual\")\n",
    "plt.title(\"Confusion Matrix - Logistic Regression\")"
   ]
  },
  {
   "cell_type": "code",
   "execution_count": null,
   "id": "5222ac83",
   "metadata": {},
   "outputs": [],
   "source": []
  },
  {
   "cell_type": "code",
   "execution_count": 39,
   "id": "3c2100b8",
   "metadata": {},
   "outputs": [
    {
     "name": "stdout",
     "output_type": "stream",
     "text": [
      "Random Forest Accuracy Score : 78\n"
     ]
    }
   ],
   "source": [
    "from sklearn.naive_bayes import MultinomialNB\n",
    "\n",
    "model_nb = make_pipeline(CountVectorizer(), \n",
    "                         TfidfTransformer(), MultinomialNB())\n",
    "\n",
    "model_nb.fit(X_train, y_train)\n",
    "\n",
    "nb_pred = model_nb.predict(X_test)\n",
    "print(\"Random Forest Accuracy Score :\", round(accuracy_score(y_test, nb_pred)*100))"
   ]
  },
  {
   "cell_type": "code",
   "execution_count": 40,
   "id": "5b546e0d",
   "metadata": {},
   "outputs": [
    {
     "data": {
      "text/plain": [
       "(array(['Fresh', 'Fresh', 'Rotten', 'Rotten', 'Rotten', 'Rotten', 'Fresh',\n",
       "        'Fresh', 'Rotten', 'Rotten'], dtype=object),\n",
       " array(['Rotten', 'Fresh', 'Fresh', 'Rotten', 'Rotten', 'Fresh', 'Fresh',\n",
       "        'Fresh', 'Rotten', 'Fresh'], dtype='<U6'))"
      ]
     },
     "execution_count": 40,
     "metadata": {},
     "output_type": "execute_result"
    }
   ],
   "source": [
    "y_test.values[:10], nb_pred[:10]"
   ]
  },
  {
   "cell_type": "code",
   "execution_count": 41,
   "id": "bebe0687",
   "metadata": {},
   "outputs": [
    {
     "data": {
      "text/plain": [
       "Text(0.5, 1.0, 'Confusion Matrix - Naive Bayes Classifier')"
      ]
     },
     "execution_count": 41,
     "metadata": {},
     "output_type": "execute_result"
    },
    {
     "data": {
      "image/png": "[encoded data removed]",
      "text/plain": [
       "<Figure size 576x576 with 2 Axes>"
      ]
     },
     "metadata": {
      "needs_background": "light"
     },
     "output_type": "display_data"
    }
   ],
   "source": [
    "cm = confusion_matrix(y_test, nb_pred)\n",
    "plt.figure(figsize=(8,8))\n",
    "sb.heatmap(cm, annot=True)\n",
    "plt.xlabel(\"Predicted\")\n",
    "plt.ylabel(\"Actual\")\n",
    "plt.title(\"Confusion Matrix - Naive Bayes Classifier\")"
   ]
  },
  {
   "cell_type": "code",
   "execution_count": 42,
   "id": "7b108107",
   "metadata": {},
   "outputs": [
    {
     "name": "stdout",
     "output_type": "stream",
     "text": [
      "MultinomialNB classification_report:\n",
      "              precision    recall  f1-score   support\n",
      "\n",
      "       Fresh       0.77      0.94      0.85    121429\n",
      "      Rotten       0.83      0.49      0.62     68387\n",
      "\n",
      "    accuracy                           0.78    189816\n",
      "   macro avg       0.80      0.72      0.73    189816\n",
      "weighted avg       0.79      0.78      0.77    189816\n",
      "\n"
     ]
    }
   ],
   "source": [
    "print('MultinomialNB classification_report:')\n",
    "print(classification_report(y_test,nb_pred))"
   ]
  },
  {
   "cell_type": "markdown",
   "id": "d8b4d73b",
   "metadata": {},
   "source": [
    "#### Insights:\n",
    "###### LogisticRegression model is performing better than Multinomial NaiveBayes Classifier.\n",
    "###### In this the target variables are kept as such without converting them to numeric values.\n",
    "###### Due to the limitation in the resources the XGBOOST and RandomForest classifiers are not executed as it will take long time to complete in my laptop. "
   ]
  }
 ],
 "metadata": {
  "kernelspec": {
   "display_name": "Python 3 (ipykernel)",
   "language": "python",
   "name": "python3"
  },
  "language_info": {
   "codemirror_mode": {
    "name": "ipython",
    "version": 3
   },
   "file_extension": ".py",
   "mimetype": "text/x-python",
   "name": "python",
   "nbconvert_exporter": "python",
   "pygments_lexer": "ipython3",
   "version": "3.8.8"
  }
 },
 "nbformat": 4,
 "nbformat_minor": 5
}
